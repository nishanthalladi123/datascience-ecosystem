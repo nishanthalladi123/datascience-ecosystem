{
  "metadata": {
    "kernelspec": {
      "name": "xeus-python",
      "display_name": "Python (XPython)",
      "language": "python"
    },
    "language_info": {
      "file_extension": ".py",
      "mimetype": "text/x-python",
      "name": "python",
      "version": "3.10.2"
    }
  },
  "nbformat_minor": 4,
  "nbformat": 4,
  "cells": [
    {
      "cell_type": "markdown",
      "source": "# Data Science Tools and Ecosystem\n",
      "metadata": {}
    },
    {
      "cell_type": "markdown",
      "source": "**Intoduction:**\nIn this notebook, Data Science Tools and Ecosystem are summarized.\n",
      "metadata": {}
    },
    {
      "cell_type": "markdown",
      "source": "# Data Science Languages\r\n- Python\r\n- R\r\n- SQL\r\n- Julia\r\n- Java\r\n- Scala\r\n",
      "metadata": {}
    },
    {
      "cell_type": "markdown",
      "source": "# Data Science Libraries\n- Pandas (Python)\n- NumPy (Python)\n- SciPy (Python)\n- Matplotlib (Python)\n- Seaborn (Python)\n- ggplot2 (R)\n- dplyr (R)\n- TensorFlow (Python)\n- PyTorch (Python)\n- Scikit-learn (Python)\n",
      "metadata": {}
    },
    {
      "cell_type": "markdown",
      "source": "| Tool           | Type                | Description                                |\n|----------------|---------------------|--------------------------------------------|\n| Jupyter        | IDE                 | Interactive computing and visualization    |\n| RStudio        | IDE                 | IDE for R language                         |\n| Pandas         | Python Library      | Data manipulation and analysis             |\n| ggplot2        | R Library           | Data visualization                         |\n| TensorFlow     | Python Library      | Machine learning and neural networks       |\n| Scikit-learn   | Python Library      | Machine learning algorithms                |\n| Tableau        | Data Visualization  | Business intelligence and analytics        |\n| SQL            | Query Language      | Database management and operations         |\n| Apache Spark   | Big Data Framework  | Large-scale data processing                |\n",
      "metadata": {}
    },
    {
      "cell_type": "markdown",
      "source": "# Arithmetic Expression Examples in Data Science\r\n\r\nIn data analysis, arithmetic expressions are frequently used for calculations. Below are some common examples:\r\n\r\n- **Addition (`+`)**: Used to add two or more numbers.\r\n- **Subtraction (`-`)**: Used to subtract one number from another.\r\n- **Multiplication (`*`)**: Used to multiply two numbers.\r\n- **Division (`/`)**: Used to divide one number by another.\r\n- **Exponentiation (`**`)**: Used to raise a number to the power of another.\r\n- **Modulus (`%`)**: Used to find the remainder when one number is divided by another.\r\n",
      "metadata": {}
    },
    {
      "cell_type": "code",
      "source": "x=2\ny=5\nprint(\"Addition:\",x+y)\nprint(\"Multiplication:\",x*y)",
      "metadata": {
        "trusted": true
      },
      "outputs": [
        {
          "name": "stdout",
          "text": "Addition: 7\nMultiplication: 10\n",
          "output_type": "stream"
        }
      ],
      "execution_count": 17
    },
    {
      "cell_type": "code",
      "source": "minutes = 120\nhours = minutes / 60\nprint(minutes, \"minutes is equal to\", hours, \"hours\")",
      "metadata": {
        "trusted": true
      },
      "outputs": [
        {
          "name": "stdout",
          "text": "120 minutes is equal to 2.0 hours\n",
          "output_type": "stream"
        }
      ],
      "execution_count": 18
    },
    {
      "cell_type": "markdown",
      "source": "# Objectives\n- Understand the basic concepts of data science\n- Explore various data science tools and libraries\n- Implement simple data analysis using Python\n- Gain insights into real-world applications of data science\n",
      "metadata": {}
    },
    {
      "cell_type": "markdown",
      "source": "**Author:** John Doe\r\n",
      "metadata": {}
    },
    {
      "cell_type": "markdown",
      "source": "*Written by: John Doe*\n",
      "metadata": {}
    },
    {
      "cell_type": "markdown",
      "source": "### Author\nJohn Doe\n",
      "metadata": {}
    },
    {
      "cell_type": "code",
      "source": "",
      "metadata": {
        "trusted": true
      },
      "outputs": [],
      "execution_count": null
    },
    {
      "cell_type": "code",
      "source": "",
      "metadata": {
        "trusted": true
      },
      "outputs": [],
      "execution_count": null
    }
  ]
}